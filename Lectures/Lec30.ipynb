{
 "cells": [
  {
   "cell_type": "markdown",
   "id": "2e0d2311",
   "metadata": {},
   "source": [
    "# Lecture 30 - Temperature and ideal gas laws"
   ]
  },
  {
   "cell_type": "markdown",
   "id": "c61e5f68",
   "metadata": {},
   "source": [
    "### Atomic Theory of Matter\n",
    "\n",
    "To introduce the concept of temperature we need to start from the atomic theory, which considers matter to be composed of atoms.\n",
    "\n",
    "A useful unit when discussing the mass of atoms is the atomic mass unit [$u$]\n",
    "\n",
    "$1\\mathrm{u}=1.6605\\times10^{-27}\\mathrm{kg}$\n",
    "\n",
    "Atoms and molecules are in continual motion, the amount of motion is proportional to the temperature, which we can think of as a measure of energy.\n",
    "\n",
    "<a href=\"https://en.wikipedia.org/wiki/Brownian_motion\" class=\"interwiki iw_wp\" title=\"https://en.wikipedia.org/wiki/Brownian_motion\">Brownian motion</a>, named after Robert Brown who observed it as <a href=\"http://www.youtube.com/watch?v=iB7Eu7U73qg&amp;feature=related\" class=\"urlextern\" title=\"http://www.youtube.com/watch?v=iB7Eu7U73qg&amp;feature=related\">random movements of pollen or dust suspended in water</a> was explained by Albert Einstein in 1905 as a product of the <a href=\"http://www.youtube.com/watch?v=6VdMp46ZIL8&amp;feature=related\" class=\"urlextern\" title=\"http://www.youtube.com/watch?v=6VdMp46ZIL8&amp;feature=related\">thermal motion of molecules or atoms</a>. \n",
    "\n",
    "We can consider <a href=\"https://en.wikipedia.org/wiki/Temperature\" class=\"interwiki iw_wp\" title=\"https://en.wikipedia.org/wiki/Temperature\">temperature</a> to be a measure of the energy contained in the motion of the  microscopic constituents of a material. \n",
    "\n"
   ]
  },
  {
   "cell_type": "markdown",
   "id": "600da45b",
   "metadata": {},
   "source": [
    "### Temperature Scales\n",
    "\n",
    "To be able to measure temperature we need a scale. The temperature scale in common usage in the United States, <a href=\"https://en.wikipedia.org/wiki/Fahrenheit\" class=\"interwiki iw_wp\" title=\"https://en.wikipedia.org/wiki/Fahrenheit\">Fahrenheit</a>, $\\mathrm{^{o}F}$ is based on what may now seem to be fairly arbitrary reference points.\n",
    "\n",
    "Most of the world uses the <a href=\"https://en.wikipedia.org/wiki/Celsius\" class=\"interwiki iw_wp\" title=\"https://en.wikipedia.org/wiki/Celsius\">Celsius</a> scale, $\\mathrm{^{o}C}$, for everyday measurements. This is based on dividing the difference between the freezing point and boiling point of water in to 100 degrees and fixing $0\\mathrm{^{o}C}$ as the freezing point.\n",
    "\n",
    "For thermodynamics an absolute temperature scale, in which 0 is the complete absence of thermal energy, is appropriate. This scale is the <a href=\"https://en.wikipedia.org/wiki/Kelvin\" class=\"interwiki iw_wp\" title=\"https://en.wikipedia.org/wiki/Kelvin\">Kelvin</a> Scale. In this scale water freezes at $273.15\\mathrm{K}$. Note that we do not use a degree symbol for temperatures in Kelvin.\n",
    "\n",
    "To convert between Farenheit and Celsius you can use the fact that water freezes at $32\\mathrm{^{o}F}$ and boils at $212\\mathrm{^{o}}F$ to deduce that:\n",
    "\n",
    "$T(\\mathrm{^{o}C})=\\frac{5}{9}(T(\\mathrm{^{o}F})-32)$\n",
    "\n",
    "or \n",
    "\n",
    "$T(\\mathrm{^{o}F})=\\frac{9}{5}T(\\mathrm{^{o}C})+32$\n"
   ]
  },
  {
   "cell_type": "markdown",
   "id": "1f388f1a",
   "metadata": {},
   "source": [
    "### Thermal Equilibrium\n",
    "\n",
    "If two objects with different temperatures are brought in to contact with one another thermal energy will flow from one to another until the temperatures are the same, and we then say that the objects are in thermal equilibrium.\n",
    "\n",
    "The <a href=\"https://en.wikipedia.org/wiki/Zeroth_law_of_thermodynamics\" class=\"interwiki iw_wp\" title=\"https://en.wikipedia.org/wiki/Zeroth_law_of_thermodynamics\">zeroth law of thermodynamics</a> states that:\n",
    "\n",
    "“If two systems are in thermal equilibrium with a third system, then they are in thermal equilibrium with each other.”\n",
    "\n",
    "This law may seem obvious but this is only because we already have some expectation from our everyday experience that temperature is a general quantity that we can measure with a thermometer. This law allows us to declare this formally, and turns out to be important, in conjunction with the First and Second Laws (we'll talk about these later!), for establishing the true definition of thermal equilibrium.\n"
   ]
  },
  {
   "cell_type": "markdown",
   "id": "6610a621",
   "metadata": {},
   "source": [
    "### Thermal Expansion\n",
    "\n",
    "Most, but not all, materials expand when heated. The change in length of material due to linear thermal expansion is\n",
    "\n",
    "$\\Delta l=\\alpha l_{0}\\Delta T$\n",
    "\n",
    "$\\alpha$ is the coefficient of linear expansion of the material, measured in $\\mathrm{(^{o}C)^{-1}}$\n",
    "\n",
    "The length of the object after it's temperature has been changed by $\\Delta T$ is\n",
    "\n",
    "$l=l_{0}(1+\\alpha\\Delta T)$\n",
    "\n",
    "A material expands in all directions, and if we are interested in the volume changes of a rectangular object, that is isotropic, meaning it expands in the same way in all directions, then\n",
    "\n",
    "$\\Delta V = \\beta V_{0}\\Delta T$\n",
    "\n",
    "$V_{0}=l_{0}w_{0}h_{0}$  → $V=l_{0}(1+\\alpha\\Delta T)w_{0}(1+\\alpha\\Delta T)h_{0}(1+\\alpha\\Delta T)$\n",
    "\n",
    "$\\Delta V=V-V_{0}=V_{0}(1+\\alpha\\Delta T)^{3}-V_{0}=V_{0}[3(\\alpha\\Delta T)+3(\\alpha\\Delta T)^{2}+(\\alpha\\Delta T)^{3}]$\n",
    "\n",
    "If $\\alpha\\Delta T << 1$ then $\\beta \\approx 3\\alpha$\n",
    "\n",
    "Coefficients of thermal expansion can be found <a href=\"http://en.wikipedia.org/wiki/Thermal_expansion\" class=\"urlextern\" title=\"http://en.wikipedia.org/wiki/Thermal_expansion\">here</a> or your textbook. \n"
   ]
  },
  {
   "cell_type": "markdown",
   "id": "d971e505",
   "metadata": {},
   "source": [
    "### Negative Thermal Expansion\n",
    "\n",
    "Some materials in certain temperature ranges do not expand with temperature. An example is water, which actually decreases in volume as it's temperature is increased from $0\\mathrm{^{o}C}$ to $4\\mathrm{^{o}C}$. This has an important effect, it explains why the surface of lakes freeze, which helps prevent the flow of heat out of the lake. If the thermal expansion was normal between $0\\mathrm{^{o}C}$ and $4\\mathrm{^{o}C}$ the circulation effect would continue below $4\\mathrm{^{o}C}$ and the whole lake would freeze, starting from the bottom.\n",
    "\n",
    "![im](images/waterfreeze.png)"
   ]
  },
  {
   "cell_type": "markdown",
   "id": "df090643",
   "metadata": {},
   "source": [
    "### Boyle's Law</h2>\n",
    "<div class=\"level2\">\n",
    "\n",
    "<p>\n",
    "At constant temperature, it is found that the product of the pressure and volume of an ideal gas are constant\n",
    "</p>\n",
    "\n",
    "<p>\n",
    "$PV=\\mathrm{constant}$\n",
    "</p>\n",
    "\n",
    "<p>\n",
    "This is named <a href=\"https://en.wikipedia.org/wiki/Boyle%2527s_law\" class=\"interwiki iw_wp\" title=\"https://en.wikipedia.org/wiki/Boyle%2527s_law\">Boyle&#039;s Law</a>, after Robert Boyle who formulated it in 1662.\n",
    "\n",
    "![im](images/boyles_law_animated.gif)"
   ]
  },
  {
   "cell_type": "markdown",
   "id": "e5e75bfc",
   "metadata": {},
   "source": [
    "### Charles&#039; Laws\n",
    "\n",
    "Joesph Louis Gay-Lussac published <a href=\"https://en.wikipedia.org/wiki/Charles%2527s_law\" class=\"interwiki iw_wp\" title=\"https://en.wikipedia.org/wiki/Charles%2527s_law\">Charles' Law</a> in 1802, attributing it to unpublished work of Jacques Charles in the 1780's  (Gay-Lussac has his own law..though it's not clear he should!).\n",
    "\n",
    "Charles' Law states that at constant pressure the volume of a gas is proportional to the temperature.\n",
    "\n",
    "$V\\propto T$\n",
    "\n",
    "\n",
    "![im](images/charles_and_gay-lussac_s_law_animated.gif)"
   ]
  },
  {
   "cell_type": "markdown",
   "id": "56903fd3",
   "metadata": {},
   "source": [
    "### Gay-Lussac's law\n",
    "\n",
    "<a href=\"https://en.wikipedia.org/wiki/Gay-Lussac%2527s_Law\" class=\"interwiki iw_wp\" title=\"https://en.wikipedia.org/wiki/Gay-Lussac%2527s_Law\">Gay Lussac's Law</a> states that for a fixed volume the pressure is proportional to the temperature\n",
    "\n",
    "$P\\propto T$\n"
   ]
  },
  {
   "cell_type": "markdown",
   "id": "5063f838",
   "metadata": {},
   "source": [
    "### Ideal Gas Law\n",
    "\n",
    "The combination of the previous 3 laws implies that \n",
    "\n",
    "$PV\\propto T$\n",
    "\n",
    "Our previous laws were for systems of constant mass, but we can see that the amount of mass should effect the volume (at a given pressure) or the pressure (at a given volume).\n",
    "\n",
    "$PV\\propto mT$\n",
    "\n",
    "Measuring the amount of mass in moles will allow us to write the ideal gas law in terms of a universal constant. A mole of gas is a given number of molecules, Avagadro&#039;s number, $N_{A}=6.02\\times 10^{23}$. If we have a certain mass $m$ of a gas which has a certain <a href=\"https://en.wikipedia.org/wiki/Molecular_mass\" class=\"interwiki iw_wp\" title=\"https://en.wikipedia.org/wiki/Molecular_mass\">molecular mass</a> (measured in atomic mass units, $\\mathrm{u}$, which are also the number of grams per mole.), the the number of moles $n$ is given by\n",
    "\n",
    "$n=\\frac{m[\\mathrm{g}]}{\\textrm{molecular mass}[\\mathrm{g/mol}]}$\n",
    "\n",
    "and \n",
    "\n",
    "$PV=nRT$ where $R=8.314\\mathrm{J/(mol.K)}$\n",
    "\n",
    "This equation is the <a href=\"https://en.wikipedia.org/wiki/Ideal_gas_law\" class=\"interwiki iw_wp\" title=\"https://en.wikipedia.org/wiki/Ideal_gas_law\">ideal gas law</a>\n"
   ]
  },
  {
   "cell_type": "markdown",
   "id": "7867dfc1",
   "metadata": {},
   "source": [
    "### Ideal Gas Law for a number of molecules\n",
    "\n",
    "The ideal gas law can also be written in terms of the number of molecules $N$\n",
    "\n",
    "$PV=nRT=\\frac{N}{N_{A}}RT=NkT$\n",
    "\n",
    "where $k=\\frac{R}{N_{A}}=\\frac{8.314\\mathrm{J/(mol.K)}}{6.02\\times 10^{23}}=1.38\\times 10^{-23}\\mathrm{J/K}$ is the <a href=\"https://en.wikipedia.org/wiki/Boltzmann_constant\" class=\"interwiki iw_wp\" title=\"https://en.wikipedia.org/wiki/Boltzmann_constant\">Boltzmann Constant</a>.\n"
   ]
  },
  {
   "cell_type": "markdown",
   "id": "f5612ebf",
   "metadata": {},
   "source": [
    "### Using the Ideal Gas Law to determine Absolute Zero\n",
    "\n",
    "If $PV=nRT$ the absolute zero temperature occurs when $P=0$. In practice most gases will liquefy before this point, but we can measure the pressure of fixed volume of gas at a couple of reference points and extrapolate down to zero pressure to get an estimate for <a href=\"https://en.wikipedia.org/wiki/Absolute_zero\" class=\"interwiki iw_wp\" title=\"https://en.wikipedia.org/wiki/Absolute_zero\">absolute zero</a>."
   ]
  },
  {
   "cell_type": "markdown",
   "id": "704c5353",
   "metadata": {},
   "source": [
    "### What makes a gas ideal?\n",
    "\n",
    "There are a number of conditions which must be satisfied for a gas to be considered ideal\n",
    "\n",
    "- There must be a large number of molecules and they should move in random directions with a range of different speeds.\n",
    "- The spacing between molecules should be much greater than the size of the molecules.\n",
    "- Molecules are assumed to interact only through collisions.\n",
    "- The collisions are assumed to be elastic."
   ]
  },
  {
   "cell_type": "markdown",
   "id": "c86d42c0",
   "metadata": {},
   "source": [
    "### Ideal gas law from a molecular perspective\n",
    "\n",
    "We can work out the pressure exerted by an ideal gas on it's container by starting from the change in momentum of a molecule when it strikes the container wall\n",
    "\n",
    "![im](images/kinetictheory.png)\n",
    "\n",
    "The average force due to one molecule is then \n",
    "\n",
    "$F_{molecule}=\\frac{\\Delta(mv_x)}{\\Delta t}=\\frac{2mv_{x}}{2l/v_{x}}=\\frac{mv_{x}^{2}}{l}$\n",
    "\n",
    "The net force on the wall will be the sum of the forces from all $N$ molecules\n",
    "\n",
    "$F^x_{net}=\\frac{m}{l}\\Sigma_{i=1..N} v_{xi}^{2}$\n",
    "\n",
    "$\\frac{\\Sigma_{i=1..N} v_{xi}^{2}}{N}=\\bar{v_{x}^{2}}$ → $F^x_{net}=\\frac{m}{l}N\\bar{v_{x}^{2}}$\n",
    "\n",
    "$v^{2}=v_{x}^{2}+v_{y}^{2}+v_{z}^{2}$ → $\\bar{v^{2}}=\\bar{v_{x}^{2}}+\\bar{v_{y}^{2}}+\\bar{v_{z}^{2}}=\\bar{3v_{x}^{2}}$\n",
    "\n",
    "$F_{net}=\\frac{m}{l}N\\frac{\\bar{v^{2}}}{3}$\n",
    "\n",
    "$P=\\frac{F}{A}=\\frac{1}{3}\\frac{Nm\\bar{v^{2}}}{Al}=\\frac{1}{3}\\frac{Nm\\bar{v^{2}}}{V}$\n",
    "\n",
    "$PV=\\frac{2}{3}N(\\frac{1}{2}m\\bar{v^{2}})=NkT$\n",
    "\n",
    "$\\bar{KE}=\\frac{1}{2}m\\bar{v^{2}}=\\frac{3}{2}kT$"
   ]
  },
  {
   "cell_type": "markdown",
   "id": "dbee23ba",
   "metadata": {},
   "source": [
    "### Maxwell Boltzmann Distribution\n",
    "\n",
    "If we look at a [simulation](https://www.falstad.com/gas/) of particles moving according to the kinetic theory we can get some idea of the distribution of the speeds of the particles.\n",
    "\n",
    "The [Maxwell-Boltzmann Distribution](https://en.wikipedia.org/wiki/Maxwell%E2%80%93Boltzmann_distribution) gives the probability $f(v)$ that a particular particle in an ideal gas has a given speed $v$.\n",
    "\n",
    "$f(v)=4\\pi (\\frac{m}{2\\pi k T})^{\\frac{3}{2}}v^{2}e^{-\\frac{1}{2}\\frac{mv^{2}}{kT}}$\n",
    "\n",
    "It was originally derived by <a href=\"https://en.wikipedia.org/wiki/James_Clerk_Maxwell\" class=\"interwiki iw_wp\" title=\"https://en.wikipedia.org/wiki/James_Clerk_Maxwell\">James Clerk Maxwell</a> based on symmetry arguments, later <a href=\"https://en.wikipedia.org/wiki/Ludwig_Boltzmann\" class=\"interwiki iw_wp\" title=\"https://en.wikipedia.org/wiki/Ludwig_Boltzmann\">Ludwig Boltzmann</a> derived it on a more general basis. \n"
   ]
  },
  {
   "cell_type": "markdown",
   "id": "a649ac73",
   "metadata": {},
   "source": [
    "### Temperature dependence\n",
    "\n",
    "The distribution of speeds is highly temperature dependent and is predicted by the Maxwell distribution.\n",
    "\n",
    "The plot below is for He atoms at various temperatures.\n",
    "\n",
    "![im](images/maxdistt.png)"
   ]
  },
  {
   "cell_type": "markdown",
   "id": "f611b902",
   "metadata": {},
   "source": [
    "### Mass dependence\n",
    "\n",
    "The speed distribution is also a function of the mass of the molecules, the plot below is for the first 4 noble gasses at room temperature.\n",
    "\n",
    "\n",
    "![im](images/maxdistmass.png)"
   ]
  },
  {
   "cell_type": "code",
   "execution_count": 8,
   "id": "ed100568",
   "metadata": {},
   "outputs": [
    {
     "data": {
      "image/png": "[encoded data removed]",
      "text/plain": [
       "<Figure size 432x288 with 1 Axes>"
      ]
     },
     "metadata": {
      "needs_background": "light"
     },
     "output_type": "display_data"
    }
   ],
   "source": [
    "import numpy as np\n",
    "import matplotlib.pyplot as plt\n",
    "\n",
    "k_B = 1.380648e-23  # boltzmann contant (J/K)\n",
    "uma = 1.66054e-27 # kg/uma\n",
    "def pmod(v, T, m):\n",
    "    \"\"\"\n",
    "        Maxwell-Boltzmann's distribuion of probability \n",
    "        for the length of the velocity vector v at temprature T\n",
    "        for a particle of mass m\n",
    "    \"\"\"\n",
    "    return 4 * np.pi * v**2 * np.power(m / (2 * np.pi * k_B * T), 3 / 2) * np.exp(- m * v**2 / (2 * k_B * T))\n",
    "\n",
    "v = np.arange(0,3000,0.1) # velocity range in m/s\n",
    "#T =  np.arange(0,3000,0.1)\n",
    "T = 100 #K\n",
    "m = 18*uma # u, mass of Ar\n",
    "\n",
    "p_v= pmod(v,T,m)\n",
    "\n",
    "plt.plot(v,p_v, label='Ar')\n",
    "plt.xlabel(\"speed (m/s)\")\n",
    "plt.ylabel(\"P(v) (m)\")\n",
    "\n",
    "m = 54*uma # u, mass of Xe\n",
    "\n",
    "p_v= pmod(v,T,m)\n",
    "\n",
    "plt.plot(v,p_v, label='Xe')\n",
    "\n",
    "m = 2*uma # u, mass of H2\n",
    "\n",
    "p_v= pmod(v,T,m)\n",
    "\n",
    "plt.plot(v,p_v, label='H2')\n",
    "\n",
    "plt.xlabel(\"speed (m/s)\")\n",
    "plt.ylabel(\"P(v) (m)\")\n",
    "\n",
    "plt.legend(loc=\"upper right\")\n",
    "plt.show()"
   ]
  },
  {
   "cell_type": "code",
   "execution_count": null,
   "id": "88a9c987",
   "metadata": {},
   "outputs": [],
   "source": []
  }
 ],
 "metadata": {
  "kernelspec": {
   "display_name": "Python 3 (ipykernel)",
   "language": "python",
   "name": "python3"
  },
  "language_info": {
   "codemirror_mode": {
    "name": "ipython",
    "version": 3
   },
   "file_extension": ".py",
   "mimetype": "text/x-python",
   "name": "python",
   "nbconvert_exporter": "python",
   "pygments_lexer": "ipython3",
   "version": "3.9.10"
  }
 },
 "nbformat": 4,
 "nbformat_minor": 5
}
