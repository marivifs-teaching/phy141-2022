{
 "cells": [
  {
   "cell_type": "markdown",
   "id": "38f547ac",
   "metadata": {},
   "source": [
    "|Lecture | Topic | Date|\n",
    "|---|---|---|\n",
    "|Lecture 1| - Introduction, Units, Measurement and Error| Aug 22|\n",
    "|Lecture 2| - One Dimensional Kinematics| Aug 24|\n",
    "|Lecture 3| - 2 and 3 dimensional Kinematics| Aug 26|\n",
    "|Lecture 4| - Solving Kinematics Problems| Aug 29|\n",
    "|Lecture 5| - Newton's Laws of Motion| Aug 31|\n",
    "|Lecture 6| - Applications of Newton's Laws of Motion| Sep 2|\n",
    "|Lecture 7| - Friction, Drag and Terminal Velocity| Sep 7|\n",
    "|Lecture 8| - Circular Motion| Sep 9|\n",
    "|Lecture 9| - Gravitation| Sep 12|\n",
    "|Lecture 10| - Orbits| Sep 14|\n",
    "|Lecture 11| - Work and Energy | Sep 16 |\n",
    "|Lecture 12| - Conservation of Energy| Sep 19 |\n",
    "|Lecture 13| - Gravitational Potential Energy and Power| Sep 22|\n",
    "|Lecture 13| - Gravitational Potential Energy and Power| Sep 24|\n",
    "| Midterm I Review|   | Sep 27|\n",
    "| Midterm I Review|   | Sep 29|\n",
    "| Mt1 Exam | | Oct 1|\n",
    "|Lecture 14| - Linear Momentum and one dimensional collisions| Oct 4|\n",
    "|Lecture 15| - Linear Momentum in more than one dimension| Oct 6|\n",
    "|Lecture 16| - Rotational Kinematics| Oct 8|\n",
    "|Lecture 17| - Rotational Dynamics| Oct 13|\n",
    "|Lecture 18| - Angular Momentum| Oct 15|\n",
    "|Lecture 19| - Advanced Rotational Motion |Oct 18|\n",
    "|Lecture 20| - Static Equilibrium| Oct 20|\n",
    "|Lecture 21| - Some Physics of Materials| Oct 22|\n",
    "| Midterm II Review|   | Oct 25|\n",
    "| Midterm II Review|   | Oct 27|\n",
    "|Midterm II|  |  Oct 29|\n",
    "|Lecture 22| - Static Fluids| Nov 1|\n",
    "|Lecture 23| - Fluids in Motion| Nov 3 |\n",
    "|Lecture 24| - Simple Harmonic Motion| Nov 5|\n",
    "|Lecture 25| - Not So Simple Harmonic Motion| Nov 8|\n",
    "|Lecture 26| - Waves| Nov 10|\n",
    "|Lecture 27| - Wave Effects | Nov 12|\n",
    "|Lecture 28| - Sound| Nov 15|\n",
    "|Lecture 29| - Sound Effects| Nov 17|\n",
    "|Lecture 30| - Temperature and Ideal Gas Laws| Nov 19|\n",
    "|Lecture 31| - Heat| Nov 22|\n",
    "|Lecture 32| - First Law of Thermodynamics | Nov 29|\n",
    "|Lecture 33| - Second Law of Thermodynamics| Dec 1|\n",
    "|Lecture 34| - Entropy| Dec 3|\n",
    "|Final Review  | | Dec 6|\n",
    "|Final Review Virtual Sessions | | TBD|\n",
    "|Final Exam |  | Dec 13, 11:15am-13:45|"
   ]
  },
  {
   "cell_type": "code",
   "execution_count": null,
   "id": "b99ecfa4",
   "metadata": {},
   "outputs": [],
   "source": []
  }
 ],
 "metadata": {
  "kernelspec": {
   "display_name": "Python 3 (ipykernel)",
   "language": "python",
   "name": "python3"
  },
  "language_info": {
   "codemirror_mode": {
    "name": "ipython",
    "version": 3
   },
   "file_extension": ".py",
   "mimetype": "text/x-python",
   "name": "python",
   "nbconvert_exporter": "python",
   "pygments_lexer": "ipython3",
   "version": "3.9.10"
  }
 },
 "nbformat": 4,
 "nbformat_minor": 5
}
