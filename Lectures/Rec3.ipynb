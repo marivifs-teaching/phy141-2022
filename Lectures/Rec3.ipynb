{
 "cells": [
  {
   "cell_type": "markdown",
   "id": "31dea696",
   "metadata": {},
   "source": [
    "### 5.95\n",
    "\n",
    "![image.png](images/GIANCOLI.ch05.p088.jpg)\n",
    "A 28.0 kg block is connected to an empty 1.90 kg bucket by a cord running over a frictionless pulley. The coefficient of static friction between the table and the block is 0.41 and the coefficient of kinetic friction between the table and the block is 0.26. Sand is gradually added to the bucket until the system just begins to move.\n",
    "\n",
    "* Calculate the mass of sand added to the bucket\n",
    "\n",
    "$m_{sand}=\\mu_sm-m_{bucket}$\n",
    "\n",
    "* Calculate the acceleration of the system.\n",
    "\n",
    "$a= \\frac{g(\\mu_s-\\mu_k)}{1+\\mu_s}$\n"
   ]
  },
  {
   "cell_type": "markdown",
   "id": "7f094159",
   "metadata": {},
   "source": [
    "### 5.79\n",
    "A motorboat traveling at a speed of 2.0 m/s shuts off its engines at t=0.\n",
    "* How far does it travel before coming to rest if it is noted that after 2.6 s its speed has dropped to half its original value? Assume that the drag force of the water is proportional to v.\n",
    "\n",
    "$F=-\\alpha v = ma = m\\frac{dv}{dt}$ Note the minus sign because it is a drag force.\n",
    "\n",
    "$-\\alpha v = m\\frac{dv}{dt}\\rightarrow \\frac{-\\alpha}{m}\\int_0^t dt = \\int_{v_i}^v \\frac{dv}{v}$\n",
    "\n",
    "$ln(\\frac{v}{v_i})= -\\frac{\\alpha}{m}t\\rightarrow v = v_ie^{-\\frac{\\alpha}{m}t}$\n",
    "\n",
    "at t=t1 we know v(t1)=vi/2.\n",
    "\n",
    "Call $\\beta= \\frac{\\alpha}{m}$\n",
    "\n",
    "$\\beta = \\frac{ln(2)}{t_1}$\n",
    "\n",
    "Now lets integrate to compute the distance. We know that it will take infinite time for the boat to stop. \n",
    "\n",
    "$v=\\frac{dx}{dt}\\rightarrow \\int_0^{x_f} dx = \\int_0^\\infty v_ie^{-\\beta t}dt$\n",
    "\n",
    "$x_f=-\\frac{v_i}{\\beta}(0-1)=\\frac{v_i}{\\beta}=\\frac{v_i t_1}{ln(2)}$\n",
    "\n"
   ]
  },
  {
   "cell_type": "code",
   "execution_count": null,
   "id": "5647b44e",
   "metadata": {},
   "outputs": [],
   "source": []
  }
 ],
 "metadata": {
  "kernelspec": {
   "display_name": "Python 3 (ipykernel)",
   "language": "python",
   "name": "python3"
  },
  "language_info": {
   "codemirror_mode": {
    "name": "ipython",
    "version": 3
   },
   "file_extension": ".py",
   "mimetype": "text/x-python",
   "name": "python",
   "nbconvert_exporter": "python",
   "pygments_lexer": "ipython3",
   "version": "3.9.10"
  }
 },
 "nbformat": 4,
 "nbformat_minor": 5
}
