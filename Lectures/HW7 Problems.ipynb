{
 "cells": [
  {
   "cell_type": "markdown",
   "id": "fa9f0ea3",
   "metadata": {},
   "source": [
    "### Problem 9.94\n",
    "\n",
    "This is the problem I did not finish in class. Here is the way to solve it:\n",
    "\n",
    "The astronaut is using his jetpack to propell herself. The change in mass of the astronaut is iqual to the change in mass of the gas (with opposite sing, because one decreases and the other increases).\n",
    "\n",
    "total momentum is conserved, ie. is equal to zero.\n",
    "\n",
    "$dm_a = -dm_g$\n",
    "\n",
    "Hence:\n",
    "\n",
    "$dm_g v_g=(m_a-dm_g)dv_a$\n",
    "\n",
    "$-dm_a v_g=(m_a-dm_g)dv_a$\n",
    "\n",
    "Note than when we expand the R.H.S we take to zero a product of two diferentials (the product of two very small numbers (<1) is an even smaller number (<<1) and we can assume it is zero)\n",
    "\n",
    "$\\int_{m_a^0}^{ma}\\frac{dm_a}{m_a}=\\int_0^{v_a}\\frac{-dv_a}{v_g}$\n",
    "\n",
    "Here in the RHS v_g is constant, so the integral is not a logarithm, just $\\int dv_a =v_a$.\n",
    "\n",
    "Integrating both sides we get that after some time t $m_a = m_a^0e^{\\frac{-v_a}{v_g}}$\n",
    "\n",
    "So the total mass of gass will be equal to the total change of the astronaut mass which is:\n",
    "\n",
    "$m_g = m_a^0(1-e^{\\frac{-v_a}{v_g}}$)"
   ]
  },
  {
   "cell_type": "code",
   "execution_count": null,
   "id": "230a17a4",
   "metadata": {},
   "outputs": [],
   "source": []
  }
 ],
 "metadata": {
  "kernelspec": {
   "display_name": "Python 3 (ipykernel)",
   "language": "python",
   "name": "python3"
  },
  "language_info": {
   "codemirror_mode": {
    "name": "ipython",
    "version": 3
   },
   "file_extension": ".py",
   "mimetype": "text/x-python",
   "name": "python",
   "nbconvert_exporter": "python",
   "pygments_lexer": "ipython3",
   "version": "3.9.10"
  }
 },
 "nbformat": 4,
 "nbformat_minor": 5
}
